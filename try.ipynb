{
 "cells": [
  {
   "cell_type": "code",
   "execution_count": 1,
   "metadata": {},
   "outputs": [],
   "source": [
    "  \n",
    "from urllib.request import Request, urlopen\n",
    "from bs4 import BeautifulSoup as soup\n",
    "import os \n"
   ]
  },
  {
   "cell_type": "code",
   "execution_count": 54,
   "metadata": {},
   "outputs": [],
   "source": [
    "url = \"http://covidinfonith.herokuapp.com/copy-post-info?branch=CSE&year=3&page=8\"\n"
   ]
  },
  {
   "cell_type": "code",
   "execution_count": 49,
   "metadata": {
    "tags": []
   },
   "outputs": [
    {
     "output_type": "stream",
     "name": "stdout",
     "text": "<!DOCrequired type html>\n<html lang=\"en\">\n<head>\n    <meta charset=\"UTF-8\">\n    <meta name=\"viewport\" content=\"width=device-width, initial-scale=1.0\">\n    <title>Students</title>\n    <link rel=\"stylesheet\" href=\"https://stackpath.bootstrapcdn.com/bootstrap/4.4.1/css/bootstrap.min.css\" integrity=\"sha384-Vkoo8x4CGsO3+Hhxv8T/Q5PaXtkKtu6ug5TOeNV6gBiFeWPGFN9MuhOf23Q9Ifjh\" crossorigin=\"anonymous\">\n    <link rel=\"stylesheet\" type=\"text/css\" href=\"css/footer.css\">\n    <!-- <script src=\"https://kit.fontawesome.com/0cfa224e02.js\" crossorigin=\"anonymous\"></script> -->\n    <link rel=\"stylesheet\" href=\"css/nav.css\" type = \"text/css\">\n</head>\n<body class = \" mb-2 bg-info\">\n    <nav class=\"sticky-top mx-0 navbar navbar-expand-md navbar-light bg-light\">\n    <a class=\"navbar-brand\" id = \"\" href=\"/\">HOME</a>\n    <button class=\"navbar-toggler\" type=\"button\" data-toggle=\"collapse\" data-target=\"#navbarSupportedContent\" aria-controls=\"navbarSupportedContent\" aria-expanded=\"false\" aria-label=\"Toggle navigation\">\n      <span class=\"navbar-toggler-icon\"></span>\n    </button>\n  \n    <div class=\"collapse navbar-collapse\" id=\"navbarSupportedContent\">\n      <ul class=\"navbar-nav mr-auto\">\n        \n        <li class=\"nav-item active\">\n          <a class=\"nav-link\" id=\"\" href=\"/get-covid\">COVID SECTION<span class=\"sr-only\">(current)</span></a>\n        </li>\n      </ul>\n      <form action=\"/find-student\" method=\"POST\" class=\"form-inline my-2 my-lg-0 mr-4\">\n        <input class=\"form-control mr-sm-2\" type=\"search\" name = \"rollno\" placeholder=\"Search By Roll no.\" aria-label=\"Search By Id\">\n        <button class=\"btn btn-outline-success my-2 my-sm-0\" type=\"submit\">Search</button>\n      </form>\n      <ul class = \"navbar-nav\">\n        \n        <li class=\"nav-item active\">\n          <a class=\"nav-link\" id=\"\" href=\"/login\">Login<span class=\"sr-only\">(current)</span></a>\n        </li>\n        \n      </ul>\n    </div>\n  </nav>\n    <div class = \"container-fluid\">\n        \n                <div class = \"container my-4\">\n                    <div class=\"alert alert-danger\" role=\"alert\">\n                        No student with this info found\n                    </div>\n                </div>\n            \n    </div>\n<script src=\"js/foundStudents.js\"></script>\n  <!-- Site footer -->\n  <footer class=\"site-footer\">\n    <div class=\"container\">\n      <div style=\"text-align: center;\" class = \"row d-flex justify-content-center\">\n      Students who wish to update or add their data kindly send your details to the mentioned email.\n    </div>\n      <div class = \"row d-flex justify-content-center\">\n        Gmail <a href = \"mailto: covidinfonith@gmail.com\">:- covidinfonith@gmail.com </a> \n      </div>\n      <hr>\n    </div>\n    <div class=\"container\">\n      <div class=\"row\">\n        <div class=\"col-md-4 col-sm-6 col-xs-12\">\n          <p class=\"copyright-text\">Powered by\n       <a style = \"color: cornflowerblue;\" target=\"_blank\" href=\"https://nith.ac.in/\">Nith</a>.\n          </p>\n        </div>\n\n        <div class=\"col-md-4 col-sm-6 col-xs-12\">\n          <p class=\"copyright-text\">\n       <a style = \"color: cornflowerblue;\" target=\"_blank\" href=\"/about-us\">About Us</a>.\n          </p>\n        </div>\n\n        <div class=\"col-md-4 col-sm-6 col-xs-12\">\n          <ul class=\"social-icons\">\n            <li><a class=\"facebook\" target=\"_blank\" href=\"https://www.facebook.com/nithamirpur/\">Fb</a></li>\n            <li><a class=\"twitter\" target=\"_blank\" href=\"https://twitter.com/nithamirpurhp?lang=en\">Tw</a></li>\n            <li><a class=\"linkedin\" target=\"_blank\" href=\"https://www.linkedin.com/school/national-institute-of-technology-hamirpur/\">Li</i></a></li>   \n          </ul>\n        </div>\n      </div>\n    </div>\n</footer>\n<script src=\"https://code.jquery.com/jquery-3.4.1.slim.min.js\" integrity=\"sha384-J6qa4849blE2+poT4WnyKhv5vZF5SrPo0iEjwBvKU7imGFAV0wwj1yYfoRSJoZ+n\" crossorigin=\"anonymous\"></script>\n<script src=\"https://cdn.jsdelivr.net/npm/popper.js@1.16.0/dist/umd/popper.min.js\" integrity=\"sha384-Q6E9RHvbIyZFJoft+2mJbHaEWldlvI9IOYy5n3zV9zzTtmI3UksdQRVvoxMfooAo\" crossorigin=\"anonymous\"></script>\n<script src=\"https://stackpath.bootstrapcdn.com/bootstrap/4.4.1/js/bootstrap.min.js\" integrity=\"sha384-wfSDF2E50Y2D1uUdj0O3uMBJnjuUD4Ih7YwaYd1iqfktj0Uod8GCExl3Og8ifwB6\" crossorigin=\"anonymous\"></script>\n</body>\n</html>\n"
    }
   ],
   "source": [
    "req = Request(url, headers={'User-Agent': 'Mozilla/5.0'})\n",
    "web_byte = urlopen(req).read()\n",
    "\n",
    "webpage = web_byte.decode('utf-8')\n",
    "print(webpage)"
   ]
  },
  {
   "cell_type": "code",
   "execution_count": 46,
   "metadata": {},
   "outputs": [],
   "source": [
    "page_soup = soup(webpage,\"html.parser\")"
   ]
  },
  {
   "cell_type": "code",
   "execution_count": 47,
   "metadata": {},
   "outputs": [],
   "source": [
    "cont = page_soup.find_all('li',attrs={\"style\":\"list-style-type: none ;\"})"
   ]
  },
  {
   "cell_type": "code",
   "execution_count": 48,
   "metadata": {},
   "outputs": [
    {
     "output_type": "error",
     "ename": "IndexError",
     "evalue": "list index out of range",
     "traceback": [
      "\u001b[1;31m---------------------------------------------------------------------------\u001b[0m",
      "\u001b[1;31mIndexError\u001b[0m                                Traceback (most recent call last)",
      "\u001b[1;32m<ipython-input-48-c81f09ed7630>\u001b[0m in \u001b[0;36m<module>\u001b[1;34m\u001b[0m\n\u001b[1;32m----> 1\u001b[1;33m \u001b[0mcont\u001b[0m\u001b[1;33m[\u001b[0m\u001b[1;36m0\u001b[0m\u001b[1;33m]\u001b[0m\u001b[1;33m.\u001b[0m\u001b[0mh4\u001b[0m\u001b[1;33m.\u001b[0m\u001b[0mnext\u001b[0m\u001b[1;33m\u001b[0m\u001b[1;33m\u001b[0m\u001b[0m\n\u001b[0m",
      "\u001b[1;31mIndexError\u001b[0m: list index out of range"
     ]
    }
   ],
   "source": [
    "cont[0].h4.next"
   ]
  },
  {
   "cell_type": "code",
   "execution_count": 19,
   "metadata": {},
   "outputs": [
    {
     "output_type": "error",
     "ename": "AttributeError",
     "evalue": "'list' object has no attribute 'text'",
     "traceback": [
      "\u001b[1;31m---------------------------------------------------------------------------\u001b[0m",
      "\u001b[1;31mAttributeError\u001b[0m                            Traceback (most recent call last)",
      "\u001b[1;32m<ipython-input-19-f656a19f6e8f>\u001b[0m in \u001b[0;36m<module>\u001b[1;34m\u001b[0m\n\u001b[1;32m----> 1\u001b[1;33m \u001b[0mcont\u001b[0m\u001b[1;33m[\u001b[0m\u001b[1;36m0\u001b[0m\u001b[1;33m]\u001b[0m\u001b[1;33m.\u001b[0m\u001b[0mfind_all\u001b[0m\u001b[1;33m(\u001b[0m\u001b[1;34m'h4'\u001b[0m\u001b[1;33m)\u001b[0m\u001b[1;33m[\u001b[0m\u001b[1;33m:\u001b[0m\u001b[1;36m5\u001b[0m\u001b[1;33m]\u001b[0m\u001b[1;33m.\u001b[0m\u001b[0mtext\u001b[0m\u001b[1;33m\u001b[0m\u001b[1;33m\u001b[0m\u001b[0m\n\u001b[0m",
      "\u001b[1;31mAttributeError\u001b[0m: 'list' object has no attribute 'text'"
     ]
    }
   ],
   "source": [
    "cont[0].find_all('h4')"
   ]
  },
  {
   "cell_type": "code",
   "execution_count": 32,
   "metadata": {
    "tags": []
   },
   "outputs": [
    {
     "output_type": "stream",
     "name": "stdout",
     "text": "[['Inderjeet Singh', 'CSE', '17550', '3 year', 'District = Solan', 'State = Himachal Pradesh'], ['Yogendra Singh', 'CSE', '17551', '3 year', 'District = Mumbai', 'State = Maharashtra'], ['Mohit Kapoor', 'CSE', '17552', '3 year', 'District = Kangra', 'State = Himachal Pradesh'], ['Varan Singh Rohila', 'CSE', '17554', '3 year', 'District = Ghaziabad', 'State = Uttar Pradesh'], ['Kusum Koli', 'CSE', '17555', '3 year', 'District = Udham Singh Nagar', 'State = Uttarakhand'], ['Harshit Agarwal', 'CSE', '17556', '3 year', 'District = Agra', 'State = Uttar Pradesh'], ['Haq Nizar', 'CSE', '17557', '3 year', 'District = Kozhikode', 'State = Kerala'], ['Priyam Gupta', 'CSE', '17559', '3 year', 'District = Sambhal', 'State = Uttar Pradesh'], ['Ashish Yadav', 'CSE', '17560', '3 year', 'District = Alwar', 'State = Rajasthan'], ['Ujjawal Gupta', 'CSE', '17561', '3 year', 'District = Jaipur', 'State = Rajasthan'], ['Muskan Mangal', 'CSE', '17562', '3 year', 'District = Dholpur', 'State = Rajasthan'], ['Anshita Vishwa', 'CSE', '17564', '3 year', 'District = Ajmer', 'State = Rajasthan']]\n"
    }
   ],
   "source": [
    "big = []\n",
    "for contain in cont:\n",
    "    h4_cont = contain.find_all('h4')\n",
    "    h = [h4_cont[i].text for i in range(6) ]\n",
    "    big.append(h)\n",
    "print(big)"
   ]
  },
  {
   "cell_type": "code",
   "execution_count": 39,
   "metadata": {},
   "outputs": [],
   "source": [
    "import pandas as pd\n",
    "df = pd.DataFrame(big,columns=columns)"
   ]
  },
  {
   "cell_type": "code",
   "execution_count": 38,
   "metadata": {},
   "outputs": [],
   "source": [
    "columns = ['Name','Branch','Roll No','Year','City','State']"
   ]
  },
  {
   "cell_type": "code",
   "execution_count": 40,
   "metadata": {},
   "outputs": [
    {
     "output_type": "execute_result",
     "data": {
      "text/plain": "                  Name  ...                     State\n0      Inderjeet Singh  ...  State = Himachal Pradesh\n1       Yogendra Singh  ...       State = Maharashtra\n2         Mohit Kapoor  ...  State = Himachal Pradesh\n3   Varan Singh Rohila  ...     State = Uttar Pradesh\n4           Kusum Koli  ...       State = Uttarakhand\n5      Harshit Agarwal  ...     State = Uttar Pradesh\n6            Haq Nizar  ...            State = Kerala\n7         Priyam Gupta  ...     State = Uttar Pradesh\n8         Ashish Yadav  ...         State = Rajasthan\n9        Ujjawal Gupta  ...         State = Rajasthan\n10       Muskan Mangal  ...         State = Rajasthan\n11      Anshita Vishwa  ...         State = Rajasthan\n\n[12 rows x 6 columns]",
      "text/html": "<div>\n<style scoped>\n    .dataframe tbody tr th:only-of-type {\n        vertical-align: middle;\n    }\n\n    .dataframe tbody tr th {\n        vertical-align: top;\n    }\n\n    .dataframe thead th {\n        text-align: right;\n    }\n</style>\n<table border=\"1\" class=\"dataframe\">\n  <thead>\n    <tr style=\"text-align: right;\">\n      <th></th>\n      <th>Name</th>\n      <th>Branch</th>\n      <th>Roll No</th>\n      <th>Year</th>\n      <th>City</th>\n      <th>State</th>\n    </tr>\n  </thead>\n  <tbody>\n    <tr>\n      <th>0</th>\n      <td>Inderjeet Singh</td>\n      <td>CSE</td>\n      <td>17550</td>\n      <td>3 year</td>\n      <td>District = Solan</td>\n      <td>State = Himachal Pradesh</td>\n    </tr>\n    <tr>\n      <th>1</th>\n      <td>Yogendra Singh</td>\n      <td>CSE</td>\n      <td>17551</td>\n      <td>3 year</td>\n      <td>District = Mumbai</td>\n      <td>State = Maharashtra</td>\n    </tr>\n    <tr>\n      <th>2</th>\n      <td>Mohit Kapoor</td>\n      <td>CSE</td>\n      <td>17552</td>\n      <td>3 year</td>\n      <td>District = Kangra</td>\n      <td>State = Himachal Pradesh</td>\n    </tr>\n    <tr>\n      <th>3</th>\n      <td>Varan Singh Rohila</td>\n      <td>CSE</td>\n      <td>17554</td>\n      <td>3 year</td>\n      <td>District = Ghaziabad</td>\n      <td>State = Uttar Pradesh</td>\n    </tr>\n    <tr>\n      <th>4</th>\n      <td>Kusum Koli</td>\n      <td>CSE</td>\n      <td>17555</td>\n      <td>3 year</td>\n      <td>District = Udham Singh Nagar</td>\n      <td>State = Uttarakhand</td>\n    </tr>\n    <tr>\n      <th>5</th>\n      <td>Harshit Agarwal</td>\n      <td>CSE</td>\n      <td>17556</td>\n      <td>3 year</td>\n      <td>District = Agra</td>\n      <td>State = Uttar Pradesh</td>\n    </tr>\n    <tr>\n      <th>6</th>\n      <td>Haq Nizar</td>\n      <td>CSE</td>\n      <td>17557</td>\n      <td>3 year</td>\n      <td>District = Kozhikode</td>\n      <td>State = Kerala</td>\n    </tr>\n    <tr>\n      <th>7</th>\n      <td>Priyam Gupta</td>\n      <td>CSE</td>\n      <td>17559</td>\n      <td>3 year</td>\n      <td>District = Sambhal</td>\n      <td>State = Uttar Pradesh</td>\n    </tr>\n    <tr>\n      <th>8</th>\n      <td>Ashish Yadav</td>\n      <td>CSE</td>\n      <td>17560</td>\n      <td>3 year</td>\n      <td>District = Alwar</td>\n      <td>State = Rajasthan</td>\n    </tr>\n    <tr>\n      <th>9</th>\n      <td>Ujjawal Gupta</td>\n      <td>CSE</td>\n      <td>17561</td>\n      <td>3 year</td>\n      <td>District = Jaipur</td>\n      <td>State = Rajasthan</td>\n    </tr>\n    <tr>\n      <th>10</th>\n      <td>Muskan Mangal</td>\n      <td>CSE</td>\n      <td>17562</td>\n      <td>3 year</td>\n      <td>District = Dholpur</td>\n      <td>State = Rajasthan</td>\n    </tr>\n    <tr>\n      <th>11</th>\n      <td>Anshita Vishwa</td>\n      <td>CSE</td>\n      <td>17564</td>\n      <td>3 year</td>\n      <td>District = Ajmer</td>\n      <td>State = Rajasthan</td>\n    </tr>\n  </tbody>\n</table>\n</div>"
     },
     "metadata": {},
     "execution_count": 40
    }
   ],
   "source": [
    "df"
   ]
  },
  {
   "cell_type": "code",
   "execution_count": 43,
   "metadata": {},
   "outputs": [
    {
     "output_type": "execute_result",
     "data": {
      "text/plain": "0                 District = Solan\n1                District = Mumbai\n2                District = Kangra\n3             District = Ghaziabad\n4     District = Udham Singh Nagar\n5                  District = Agra\n6             District = Kozhikode\n7               District = Sambhal\n8                 District = Alwar\n9                District = Jaipur\n10              District = Dholpur\n11                District = Ajmer\nName: City, dtype: object"
     },
     "metadata": {},
     "execution_count": 43
    }
   ],
   "source": [
    "df['City'].replace('District = ',\" \")"
   ]
  },
  {
   "cell_type": "code",
   "execution_count": 55,
   "metadata": {},
   "outputs": [
    {
     "output_type": "execute_result",
     "data": {
      "text/plain": "<Response [200]>"
     },
     "metadata": {},
     "execution_count": 55
    }
   ],
   "source": [
    "requests.get(url)"
   ]
  },
  {
   "cell_type": "code",
   "execution_count": 52,
   "metadata": {},
   "outputs": [],
   "source": [
    "import requests"
   ]
  },
  {
   "cell_type": "code",
   "execution_count": 60,
   "metadata": {},
   "outputs": [],
   "source": [
    "url = \"http://covidinfonith.herokuapp.com/copy-post-info?branch=CSE&year=3&page=1\"\n",
    "\n",
    "req = Request(url, headers={'User-Agent': 'Mozilla/5.0'})\n",
    "web_byte = urlopen(req).read()\n",
    "\n",
    "webpage = web_byte.decode('utf-8')\n",
    "\n",
    "page_soup = soup(webpage,\"html.parser\")\n",
    "\n",
    "cont = page_soup.find_all('div',class_ =\"alert alert-danger\")"
   ]
  },
  {
   "cell_type": "code",
   "execution_count": 65,
   "metadata": {},
   "outputs": [
    {
     "output_type": "execute_result",
     "data": {
      "text/plain": "                  Name Branch  ...                City             State\n0      Inderjeet Singh    CSE  ...               Solan  Himachal Pradesh\n1       Yogendra Singh    CSE  ...              Mumbai       Maharashtra\n2         Mohit Kapoor    CSE  ...              Kangra  Himachal Pradesh\n3   Varan Singh Rohila    CSE  ...           Ghaziabad     Uttar Pradesh\n4           Kusum Koli    CSE  ...   Udham Singh Nagar       Uttarakhand\n5      Harshit Agarwal    CSE  ...                Agra     Uttar Pradesh\n6            Haq Nizar    CSE  ...           Kozhikode            Kerala\n7         Priyam Gupta    CSE  ...             Sambhal     Uttar Pradesh\n8         Ashish Yadav    CSE  ...               Alwar         Rajasthan\n9        Ujjawal Gupta    CSE  ...              Jaipur         Rajasthan\n10       Muskan Mangal    CSE  ...             Dholpur         Rajasthan\n11      Anshita Vishwa    CSE  ...               Ajmer         Rajasthan\n\n[12 rows x 6 columns]",
      "text/html": "<div>\n<style scoped>\n    .dataframe tbody tr th:only-of-type {\n        vertical-align: middle;\n    }\n\n    .dataframe tbody tr th {\n        vertical-align: top;\n    }\n\n    .dataframe thead th {\n        text-align: right;\n    }\n</style>\n<table border=\"1\" class=\"dataframe\">\n  <thead>\n    <tr style=\"text-align: right;\">\n      <th></th>\n      <th>Name</th>\n      <th>Branch</th>\n      <th>Roll No</th>\n      <th>Year</th>\n      <th>City</th>\n      <th>State</th>\n    </tr>\n  </thead>\n  <tbody>\n    <tr>\n      <th>0</th>\n      <td>Inderjeet Singh</td>\n      <td>CSE</td>\n      <td>17550</td>\n      <td>3</td>\n      <td>Solan</td>\n      <td>Himachal Pradesh</td>\n    </tr>\n    <tr>\n      <th>1</th>\n      <td>Yogendra Singh</td>\n      <td>CSE</td>\n      <td>17551</td>\n      <td>3</td>\n      <td>Mumbai</td>\n      <td>Maharashtra</td>\n    </tr>\n    <tr>\n      <th>2</th>\n      <td>Mohit Kapoor</td>\n      <td>CSE</td>\n      <td>17552</td>\n      <td>3</td>\n      <td>Kangra</td>\n      <td>Himachal Pradesh</td>\n    </tr>\n    <tr>\n      <th>3</th>\n      <td>Varan Singh Rohila</td>\n      <td>CSE</td>\n      <td>17554</td>\n      <td>3</td>\n      <td>Ghaziabad</td>\n      <td>Uttar Pradesh</td>\n    </tr>\n    <tr>\n      <th>4</th>\n      <td>Kusum Koli</td>\n      <td>CSE</td>\n      <td>17555</td>\n      <td>3</td>\n      <td>Udham Singh Nagar</td>\n      <td>Uttarakhand</td>\n    </tr>\n    <tr>\n      <th>5</th>\n      <td>Harshit Agarwal</td>\n      <td>CSE</td>\n      <td>17556</td>\n      <td>3</td>\n      <td>Agra</td>\n      <td>Uttar Pradesh</td>\n    </tr>\n    <tr>\n      <th>6</th>\n      <td>Haq Nizar</td>\n      <td>CSE</td>\n      <td>17557</td>\n      <td>3</td>\n      <td>Kozhikode</td>\n      <td>Kerala</td>\n    </tr>\n    <tr>\n      <th>7</th>\n      <td>Priyam Gupta</td>\n      <td>CSE</td>\n      <td>17559</td>\n      <td>3</td>\n      <td>Sambhal</td>\n      <td>Uttar Pradesh</td>\n    </tr>\n    <tr>\n      <th>8</th>\n      <td>Ashish Yadav</td>\n      <td>CSE</td>\n      <td>17560</td>\n      <td>3</td>\n      <td>Alwar</td>\n      <td>Rajasthan</td>\n    </tr>\n    <tr>\n      <th>9</th>\n      <td>Ujjawal Gupta</td>\n      <td>CSE</td>\n      <td>17561</td>\n      <td>3</td>\n      <td>Jaipur</td>\n      <td>Rajasthan</td>\n    </tr>\n    <tr>\n      <th>10</th>\n      <td>Muskan Mangal</td>\n      <td>CSE</td>\n      <td>17562</td>\n      <td>3</td>\n      <td>Dholpur</td>\n      <td>Rajasthan</td>\n    </tr>\n    <tr>\n      <th>11</th>\n      <td>Anshita Vishwa</td>\n      <td>CSE</td>\n      <td>17564</td>\n      <td>3</td>\n      <td>Ajmer</td>\n      <td>Rajasthan</td>\n    </tr>\n  </tbody>\n</table>\n</div>"
     },
     "metadata": {},
     "execution_count": 65
    }
   ],
   "source": [
    "df.replace({'State = ': '','District =':'',' year' :''}, regex=True)"
   ]
  },
  {
   "cell_type": "code",
   "execution_count": 69,
   "metadata": {},
   "outputs": [],
   "source": [
    "df = pd.read_csv(\"./dataset/ALL/all.csv\")"
   ]
  },
  {
   "cell_type": "code",
   "execution_count": 70,
   "metadata": {},
   "outputs": [],
   "source": [
    "df = df.replace({'State = ': '','District =':'',' year' :''}, regex=True)"
   ]
  },
  {
   "cell_type": "code",
   "execution_count": 68,
   "metadata": {},
   "outputs": [
    {
     "output_type": "execute_result",
     "data": {
      "text/plain": "      Unnamed: 0                  Name  ...         City             State\n0              0         Chetan Sharma  ...     Bilaspur  Himachal Pradesh\n1              1        Aamulya Saxena  ...       Shimla  Himachal Pradesh\n2              2  Shivankit Raj Dhiman  ...     Hamirpur  Himachal Pradesh\n3              3         Kunal Chandel  ...        Mandi  Himachal Pradesh\n4              4          Neetan Kumar  ...       Kangra  Himachal Pradesh\n...          ...                   ...  ...          ...               ...\n1599        1599     Shreyash Indurkar  ...   Chandrapur       Maharashtra\n1600        1600           Tania Verma  ...       Kangra  Himachal Pradesh\n1601        1601      Uprant Choudhary  ...        Solan  Himachal Pradesh\n1602        1602            Aman Gupta  ...       Jalaun     Uttar Pradesh\n1603        1603     Karthik Vedantham  ...       Guntur    Andhra Pradesh\n\n[1604 rows x 7 columns]",
      "text/html": "<div>\n<style scoped>\n    .dataframe tbody tr th:only-of-type {\n        vertical-align: middle;\n    }\n\n    .dataframe tbody tr th {\n        vertical-align: top;\n    }\n\n    .dataframe thead th {\n        text-align: right;\n    }\n</style>\n<table border=\"1\" class=\"dataframe\">\n  <thead>\n    <tr style=\"text-align: right;\">\n      <th></th>\n      <th>Unnamed: 0</th>\n      <th>Name</th>\n      <th>Branch</th>\n      <th>Roll No</th>\n      <th>Year</th>\n      <th>City</th>\n      <th>State</th>\n    </tr>\n  </thead>\n  <tbody>\n    <tr>\n      <th>0</th>\n      <td>0</td>\n      <td>Chetan Sharma</td>\n      <td>CSE</td>\n      <td>195001</td>\n      <td>1 year</td>\n      <td>Bilaspur</td>\n      <td>Himachal Pradesh</td>\n    </tr>\n    <tr>\n      <th>1</th>\n      <td>1</td>\n      <td>Aamulya Saxena</td>\n      <td>CSE</td>\n      <td>195002</td>\n      <td>1 year</td>\n      <td>Shimla</td>\n      <td>Himachal Pradesh</td>\n    </tr>\n    <tr>\n      <th>2</th>\n      <td>2</td>\n      <td>Shivankit Raj Dhiman</td>\n      <td>CSE</td>\n      <td>195003</td>\n      <td>1 year</td>\n      <td>Hamirpur</td>\n      <td>Himachal Pradesh</td>\n    </tr>\n    <tr>\n      <th>3</th>\n      <td>3</td>\n      <td>Kunal Chandel</td>\n      <td>CSE</td>\n      <td>195004</td>\n      <td>1 year</td>\n      <td>Mandi</td>\n      <td>Himachal Pradesh</td>\n    </tr>\n    <tr>\n      <th>4</th>\n      <td>4</td>\n      <td>Neetan Kumar</td>\n      <td>CSE</td>\n      <td>195005</td>\n      <td>1 year</td>\n      <td>Kangra</td>\n      <td>Himachal Pradesh</td>\n    </tr>\n    <tr>\n      <th>...</th>\n      <td>...</td>\n      <td>...</td>\n      <td>...</td>\n      <td>...</td>\n      <td>...</td>\n      <td>...</td>\n      <td>...</td>\n    </tr>\n    <tr>\n      <th>1599</th>\n      <td>1599</td>\n      <td>Shreyash Indurkar</td>\n      <td>CSE-DD</td>\n      <td>16MI553</td>\n      <td>4 year</td>\n      <td>Chandrapur</td>\n      <td>Maharashtra</td>\n    </tr>\n    <tr>\n      <th>1600</th>\n      <td>1600</td>\n      <td>Tania Verma</td>\n      <td>CSE-DD</td>\n      <td>16MI554</td>\n      <td>4 year</td>\n      <td>Kangra</td>\n      <td>Himachal Pradesh</td>\n    </tr>\n    <tr>\n      <th>1601</th>\n      <td>1601</td>\n      <td>Uprant Choudhary</td>\n      <td>CSE-DD</td>\n      <td>16MI555</td>\n      <td>4 year</td>\n      <td>Solan</td>\n      <td>Himachal Pradesh</td>\n    </tr>\n    <tr>\n      <th>1602</th>\n      <td>1602</td>\n      <td>Aman Gupta</td>\n      <td>CSE-DD</td>\n      <td>16MI556</td>\n      <td>4 year</td>\n      <td>Jalaun</td>\n      <td>Uttar Pradesh</td>\n    </tr>\n    <tr>\n      <th>1603</th>\n      <td>1603</td>\n      <td>Karthik Vedantham</td>\n      <td>CSE-DD</td>\n      <td>16MI558</td>\n      <td>4 year</td>\n      <td>Guntur</td>\n      <td>Andhra Pradesh</td>\n    </tr>\n  </tbody>\n</table>\n<p>1604 rows × 7 columns</p>\n</div>"
     },
     "metadata": {},
     "execution_count": 68
    }
   ],
   "source": [
    "df.to_csv(\"\",index = False)\n"
   ]
  },
  {
   "cell_type": "code",
   "execution_count": 86,
   "metadata": {},
   "outputs": [],
   "source": [
    "df = df.drop(['Unnamed: 0'],axis = 1)"
   ]
  },
  {
   "cell_type": "code",
   "execution_count": 87,
   "metadata": {},
   "outputs": [
    {
     "output_type": "error",
     "ename": "KeyError",
     "evalue": "\"['Unnamed: 0'] not found in axis\"",
     "traceback": [
      "\u001b[1;31m---------------------------------------------------------------------------\u001b[0m",
      "\u001b[1;31mKeyError\u001b[0m                                  Traceback (most recent call last)",
      "\u001b[1;32m<ipython-input-87-b2bc44fd080c>\u001b[0m in \u001b[0;36m<module>\u001b[1;34m\u001b[0m\n\u001b[1;32m----> 1\u001b[1;33m \u001b[0mdf\u001b[0m\u001b[1;33m.\u001b[0m\u001b[0mdrop\u001b[0m\u001b[1;33m(\u001b[0m\u001b[0mcolumns\u001b[0m \u001b[1;33m=\u001b[0m \u001b[1;33m[\u001b[0m\u001b[1;34m'Unnamed: 0'\u001b[0m\u001b[1;33m]\u001b[0m\u001b[1;33m,\u001b[0m\u001b[0maxis\u001b[0m \u001b[1;33m=\u001b[0m \u001b[1;36m1\u001b[0m\u001b[1;33m)\u001b[0m\u001b[1;33m\u001b[0m\u001b[1;33m\u001b[0m\u001b[0m\n\u001b[0m",
      "\u001b[1;32m~\\AppData\\Local\\Programs\\Python\\Python37\\lib\\site-packages\\pandas\\core\\frame.py\u001b[0m in \u001b[0;36mdrop\u001b[1;34m(self, labels, axis, index, columns, level, inplace, errors)\u001b[0m\n\u001b[0;32m   3992\u001b[0m             \u001b[0mlevel\u001b[0m\u001b[1;33m=\u001b[0m\u001b[0mlevel\u001b[0m\u001b[1;33m,\u001b[0m\u001b[1;33m\u001b[0m\u001b[1;33m\u001b[0m\u001b[0m\n\u001b[0;32m   3993\u001b[0m             \u001b[0minplace\u001b[0m\u001b[1;33m=\u001b[0m\u001b[0minplace\u001b[0m\u001b[1;33m,\u001b[0m\u001b[1;33m\u001b[0m\u001b[1;33m\u001b[0m\u001b[0m\n\u001b[1;32m-> 3994\u001b[1;33m             \u001b[0merrors\u001b[0m\u001b[1;33m=\u001b[0m\u001b[0merrors\u001b[0m\u001b[1;33m,\u001b[0m\u001b[1;33m\u001b[0m\u001b[1;33m\u001b[0m\u001b[0m\n\u001b[0m\u001b[0;32m   3995\u001b[0m         )\n\u001b[0;32m   3996\u001b[0m \u001b[1;33m\u001b[0m\u001b[0m\n",
      "\u001b[1;32m~\\AppData\\Local\\Programs\\Python\\Python37\\lib\\site-packages\\pandas\\core\\generic.py\u001b[0m in \u001b[0;36mdrop\u001b[1;34m(self, labels, axis, index, columns, level, inplace, errors)\u001b[0m\n\u001b[0;32m   3933\u001b[0m         \u001b[1;32mfor\u001b[0m \u001b[0maxis\u001b[0m\u001b[1;33m,\u001b[0m \u001b[0mlabels\u001b[0m \u001b[1;32min\u001b[0m \u001b[0maxes\u001b[0m\u001b[1;33m.\u001b[0m\u001b[0mitems\u001b[0m\u001b[1;33m(\u001b[0m\u001b[1;33m)\u001b[0m\u001b[1;33m:\u001b[0m\u001b[1;33m\u001b[0m\u001b[1;33m\u001b[0m\u001b[0m\n\u001b[0;32m   3934\u001b[0m             \u001b[1;32mif\u001b[0m \u001b[0mlabels\u001b[0m \u001b[1;32mis\u001b[0m \u001b[1;32mnot\u001b[0m \u001b[1;32mNone\u001b[0m\u001b[1;33m:\u001b[0m\u001b[1;33m\u001b[0m\u001b[1;33m\u001b[0m\u001b[0m\n\u001b[1;32m-> 3935\u001b[1;33m                 \u001b[0mobj\u001b[0m \u001b[1;33m=\u001b[0m \u001b[0mobj\u001b[0m\u001b[1;33m.\u001b[0m\u001b[0m_drop_axis\u001b[0m\u001b[1;33m(\u001b[0m\u001b[0mlabels\u001b[0m\u001b[1;33m,\u001b[0m \u001b[0maxis\u001b[0m\u001b[1;33m,\u001b[0m \u001b[0mlevel\u001b[0m\u001b[1;33m=\u001b[0m\u001b[0mlevel\u001b[0m\u001b[1;33m,\u001b[0m \u001b[0merrors\u001b[0m\u001b[1;33m=\u001b[0m\u001b[0merrors\u001b[0m\u001b[1;33m)\u001b[0m\u001b[1;33m\u001b[0m\u001b[1;33m\u001b[0m\u001b[0m\n\u001b[0m\u001b[0;32m   3936\u001b[0m \u001b[1;33m\u001b[0m\u001b[0m\n\u001b[0;32m   3937\u001b[0m         \u001b[1;32mif\u001b[0m \u001b[0minplace\u001b[0m\u001b[1;33m:\u001b[0m\u001b[1;33m\u001b[0m\u001b[1;33m\u001b[0m\u001b[0m\n",
      "\u001b[1;32m~\\AppData\\Local\\Programs\\Python\\Python37\\lib\\site-packages\\pandas\\core\\generic.py\u001b[0m in \u001b[0;36m_drop_axis\u001b[1;34m(self, labels, axis, level, errors)\u001b[0m\n\u001b[0;32m   3967\u001b[0m                 \u001b[0mnew_axis\u001b[0m \u001b[1;33m=\u001b[0m \u001b[0maxis\u001b[0m\u001b[1;33m.\u001b[0m\u001b[0mdrop\u001b[0m\u001b[1;33m(\u001b[0m\u001b[0mlabels\u001b[0m\u001b[1;33m,\u001b[0m \u001b[0mlevel\u001b[0m\u001b[1;33m=\u001b[0m\u001b[0mlevel\u001b[0m\u001b[1;33m,\u001b[0m \u001b[0merrors\u001b[0m\u001b[1;33m=\u001b[0m\u001b[0merrors\u001b[0m\u001b[1;33m)\u001b[0m\u001b[1;33m\u001b[0m\u001b[1;33m\u001b[0m\u001b[0m\n\u001b[0;32m   3968\u001b[0m             \u001b[1;32melse\u001b[0m\u001b[1;33m:\u001b[0m\u001b[1;33m\u001b[0m\u001b[1;33m\u001b[0m\u001b[0m\n\u001b[1;32m-> 3969\u001b[1;33m                 \u001b[0mnew_axis\u001b[0m \u001b[1;33m=\u001b[0m \u001b[0maxis\u001b[0m\u001b[1;33m.\u001b[0m\u001b[0mdrop\u001b[0m\u001b[1;33m(\u001b[0m\u001b[0mlabels\u001b[0m\u001b[1;33m,\u001b[0m \u001b[0merrors\u001b[0m\u001b[1;33m=\u001b[0m\u001b[0merrors\u001b[0m\u001b[1;33m)\u001b[0m\u001b[1;33m\u001b[0m\u001b[1;33m\u001b[0m\u001b[0m\n\u001b[0m\u001b[0;32m   3970\u001b[0m             \u001b[0mresult\u001b[0m \u001b[1;33m=\u001b[0m \u001b[0mself\u001b[0m\u001b[1;33m.\u001b[0m\u001b[0mreindex\u001b[0m\u001b[1;33m(\u001b[0m\u001b[1;33m**\u001b[0m\u001b[1;33m{\u001b[0m\u001b[0maxis_name\u001b[0m\u001b[1;33m:\u001b[0m \u001b[0mnew_axis\u001b[0m\u001b[1;33m}\u001b[0m\u001b[1;33m)\u001b[0m\u001b[1;33m\u001b[0m\u001b[1;33m\u001b[0m\u001b[0m\n\u001b[0;32m   3971\u001b[0m \u001b[1;33m\u001b[0m\u001b[0m\n",
      "\u001b[1;32m~\\AppData\\Local\\Programs\\Python\\Python37\\lib\\site-packages\\pandas\\core\\indexes\\base.py\u001b[0m in \u001b[0;36mdrop\u001b[1;34m(self, labels, errors)\u001b[0m\n\u001b[0;32m   5016\u001b[0m         \u001b[1;32mif\u001b[0m \u001b[0mmask\u001b[0m\u001b[1;33m.\u001b[0m\u001b[0many\u001b[0m\u001b[1;33m(\u001b[0m\u001b[1;33m)\u001b[0m\u001b[1;33m:\u001b[0m\u001b[1;33m\u001b[0m\u001b[1;33m\u001b[0m\u001b[0m\n\u001b[0;32m   5017\u001b[0m             \u001b[1;32mif\u001b[0m \u001b[0merrors\u001b[0m \u001b[1;33m!=\u001b[0m \u001b[1;34m\"ignore\"\u001b[0m\u001b[1;33m:\u001b[0m\u001b[1;33m\u001b[0m\u001b[1;33m\u001b[0m\u001b[0m\n\u001b[1;32m-> 5018\u001b[1;33m                 \u001b[1;32mraise\u001b[0m \u001b[0mKeyError\u001b[0m\u001b[1;33m(\u001b[0m\u001b[1;34mf\"{labels[mask]} not found in axis\"\u001b[0m\u001b[1;33m)\u001b[0m\u001b[1;33m\u001b[0m\u001b[1;33m\u001b[0m\u001b[0m\n\u001b[0m\u001b[0;32m   5019\u001b[0m             \u001b[0mindexer\u001b[0m \u001b[1;33m=\u001b[0m \u001b[0mindexer\u001b[0m\u001b[1;33m[\u001b[0m\u001b[1;33m~\u001b[0m\u001b[0mmask\u001b[0m\u001b[1;33m]\u001b[0m\u001b[1;33m\u001b[0m\u001b[1;33m\u001b[0m\u001b[0m\n\u001b[0;32m   5020\u001b[0m         \u001b[1;32mreturn\u001b[0m \u001b[0mself\u001b[0m\u001b[1;33m.\u001b[0m\u001b[0mdelete\u001b[0m\u001b[1;33m(\u001b[0m\u001b[0mindexer\u001b[0m\u001b[1;33m)\u001b[0m\u001b[1;33m\u001b[0m\u001b[1;33m\u001b[0m\u001b[0m\n",
      "\u001b[1;31mKeyError\u001b[0m: \"['Unnamed: 0'] not found in axis\""
     ]
    }
   ],
   "source": [
    "df.drop(columns = ['Unnamed: 0'],axis = 1)"
   ]
  },
  {
   "cell_type": "code",
   "execution_count": 88,
   "metadata": {},
   "outputs": [
    {
     "output_type": "execute_result",
     "data": {
      "text/plain": "Index(['Name', 'Branch', 'Roll No', 'Year', 'City', 'State'], dtype='object')"
     },
     "metadata": {},
     "execution_count": 88
    }
   ],
   "source": [
    "df.columns"
   ]
  },
  {
   "cell_type": "code",
   "execution_count": 90,
   "metadata": {},
   "outputs": [],
   "source": [
    "df.to_csv(\"dataset\\All\\lll.csv\",index = False)"
   ]
  },
  {
   "cell_type": "code",
   "execution_count": 103,
   "metadata": {
    "tags": []
   },
   "outputs": [
    {
     "output_type": "stream",
     "name": "stdout",
     "text": "Name  Branch  Roll No  Year   City             State\n3        Kunal Chandel     CSE   195004     1  Mandi  Himachal Pradesh\n13        Gargy Dhiman     CSE   195016     1  Mandi  Himachal Pradesh\n20    Neelam Mandhotra     CSE   195026     1  Mandi  Himachal Pradesh\n23             Lavanya     CSE   195031     1  Mandi  Himachal Pradesh\n29          Khem Singh     CSE   195038     1  Mandi  Himachal Pradesh\n...                ...     ...      ...   ...    ...               ...\n1536     Paras Dhillon      AR    16611     4  Mandi  Himachal Pradesh\n1543    Ankit Bhardwaj      AR    16619     4  Mandi  Himachal Pradesh\n1561    Pranjal Thakur  CSE-DD  16MI503     4  Mandi  Himachal Pradesh\n1577      Nageen Chand  CSE-DD  16MI523     4  Mandi  Himachal Pradesh\n1579            Muskan  CSE-DD  16MI527     4  Mandi  Himachal Pradesh\n\n[94 rows x 6 columns]\n"
    }
   ],
   "source": [
    "print(df[df['City']=='Mandi'])"
   ]
  },
  {
   "cell_type": "code",
   "execution_count": 98,
   "metadata": {},
   "outputs": [],
   "source": [
    "df = df['City'].str.strip()"
   ]
  },
  {
   "cell_type": "code",
   "execution_count": 106,
   "metadata": {},
   "outputs": [],
   "source": [
    "df = pd.read_csv(\"dataset\\All\\lll.csv\",index_col= 0)"
   ]
  },
  {
   "cell_type": "code",
   "execution_count": 107,
   "metadata": {},
   "outputs": [],
   "source": [
    "df['City'] = df['City'].str.strip()"
   ]
  },
  {
   "cell_type": "code",
   "execution_count": 108,
   "metadata": {},
   "outputs": [
    {
     "output_type": "execute_result",
     "data": {
      "text/plain": "                      Branch  Roll No  Year        City             State\nName                                                                     \nChetan Sharma            CSE   195001     1    Bilaspur  Himachal Pradesh\nAamulya Saxena           CSE   195002     1      Shimla  Himachal Pradesh\nShivankit Raj Dhiman     CSE   195003     1    Hamirpur  Himachal Pradesh\nKunal Chandel            CSE   195004     1       Mandi  Himachal Pradesh\nNeetan Kumar             CSE   195005     1      Kangra  Himachal Pradesh\n...                      ...      ...   ...         ...               ...\nShreyash Indurkar     CSE-DD  16MI553     4  Chandrapur       Maharashtra\nTania Verma           CSE-DD  16MI554     4      Kangra  Himachal Pradesh\nUprant Choudhary      CSE-DD  16MI555     4       Solan  Himachal Pradesh\nAman Gupta            CSE-DD  16MI556     4      Jalaun     Uttar Pradesh\nKarthik Vedantham     CSE-DD  16MI558     4      Guntur    Andhra Pradesh\n\n[1604 rows x 5 columns]",
      "text/html": "<div>\n<style scoped>\n    .dataframe tbody tr th:only-of-type {\n        vertical-align: middle;\n    }\n\n    .dataframe tbody tr th {\n        vertical-align: top;\n    }\n\n    .dataframe thead th {\n        text-align: right;\n    }\n</style>\n<table border=\"1\" class=\"dataframe\">\n  <thead>\n    <tr style=\"text-align: right;\">\n      <th></th>\n      <th>Branch</th>\n      <th>Roll No</th>\n      <th>Year</th>\n      <th>City</th>\n      <th>State</th>\n    </tr>\n    <tr>\n      <th>Name</th>\n      <th></th>\n      <th></th>\n      <th></th>\n      <th></th>\n      <th></th>\n    </tr>\n  </thead>\n  <tbody>\n    <tr>\n      <th>Chetan Sharma</th>\n      <td>CSE</td>\n      <td>195001</td>\n      <td>1</td>\n      <td>Bilaspur</td>\n      <td>Himachal Pradesh</td>\n    </tr>\n    <tr>\n      <th>Aamulya Saxena</th>\n      <td>CSE</td>\n      <td>195002</td>\n      <td>1</td>\n      <td>Shimla</td>\n      <td>Himachal Pradesh</td>\n    </tr>\n    <tr>\n      <th>Shivankit Raj Dhiman</th>\n      <td>CSE</td>\n      <td>195003</td>\n      <td>1</td>\n      <td>Hamirpur</td>\n      <td>Himachal Pradesh</td>\n    </tr>\n    <tr>\n      <th>Kunal Chandel</th>\n      <td>CSE</td>\n      <td>195004</td>\n      <td>1</td>\n      <td>Mandi</td>\n      <td>Himachal Pradesh</td>\n    </tr>\n    <tr>\n      <th>Neetan Kumar</th>\n      <td>CSE</td>\n      <td>195005</td>\n      <td>1</td>\n      <td>Kangra</td>\n      <td>Himachal Pradesh</td>\n    </tr>\n    <tr>\n      <th>...</th>\n      <td>...</td>\n      <td>...</td>\n      <td>...</td>\n      <td>...</td>\n      <td>...</td>\n    </tr>\n    <tr>\n      <th>Shreyash Indurkar</th>\n      <td>CSE-DD</td>\n      <td>16MI553</td>\n      <td>4</td>\n      <td>Chandrapur</td>\n      <td>Maharashtra</td>\n    </tr>\n    <tr>\n      <th>Tania Verma</th>\n      <td>CSE-DD</td>\n      <td>16MI554</td>\n      <td>4</td>\n      <td>Kangra</td>\n      <td>Himachal Pradesh</td>\n    </tr>\n    <tr>\n      <th>Uprant Choudhary</th>\n      <td>CSE-DD</td>\n      <td>16MI555</td>\n      <td>4</td>\n      <td>Solan</td>\n      <td>Himachal Pradesh</td>\n    </tr>\n    <tr>\n      <th>Aman Gupta</th>\n      <td>CSE-DD</td>\n      <td>16MI556</td>\n      <td>4</td>\n      <td>Jalaun</td>\n      <td>Uttar Pradesh</td>\n    </tr>\n    <tr>\n      <th>Karthik Vedantham</th>\n      <td>CSE-DD</td>\n      <td>16MI558</td>\n      <td>4</td>\n      <td>Guntur</td>\n      <td>Andhra Pradesh</td>\n    </tr>\n  </tbody>\n</table>\n<p>1604 rows × 5 columns</p>\n</div>"
     },
     "metadata": {},
     "execution_count": 108
    }
   ],
   "source": [
    "df"
   ]
  },
  {
   "cell_type": "code",
   "execution_count": 109,
   "metadata": {},
   "outputs": [
    {
     "output_type": "execute_result",
     "data": {
      "text/plain": "Branch     object\nRoll No    object\nYear        int64\nCity       object\nState      object\ndtype: object"
     },
     "metadata": {},
     "execution_count": 109
    }
   ],
   "source": [
    "df.dtypes"
   ]
  },
  {
   "cell_type": "code",
   "execution_count": 112,
   "metadata": {
    "tags": []
   },
   "outputs": [
    {
     "output_type": "stream",
     "name": "stdout",
     "text": "object\n"
    }
   ],
   "source": [
    "print(df['City'].dtypes)"
   ]
  },
  {
   "cell_type": "code",
   "execution_count": 113,
   "metadata": {},
   "outputs": [],
   "source": [
    "ct = ''\n",
    "if ct:\n",
    "    print('asd')"
   ]
  },
  {
   "cell_type": "code",
   "execution_count": null,
   "metadata": {},
   "outputs": [],
   "source": [
    "df[df['City']=='Mandi']"
   ]
  }
 ],
 "metadata": {
  "language_info": {
   "codemirror_mode": {
    "name": "ipython",
    "version": 3
   },
   "file_extension": ".py",
   "mimetype": "text/x-python",
   "name": "python",
   "nbconvert_exporter": "python",
   "pygments_lexer": "ipython3",
   "version": "3.7.6-final"
  },
  "orig_nbformat": 2,
  "kernelspec": {
   "name": "python37664bit1d7ef2e8cff042f78a509e385ee1219d",
   "display_name": "Python 3.7.6 64-bit"
  }
 },
 "nbformat": 4,
 "nbformat_minor": 2
}